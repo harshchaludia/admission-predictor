{
 "cells": [
  {
   "cell_type": "code",
   "execution_count": 1,
   "metadata": {},
   "outputs": [],
   "source": [
    "import pandas as pd\n",
    "import numpy as np\n",
    "import matplotlib.pyplot as plt\n",
    "import sklearn\n",
    "import io\n",
    "import requests\n",
    "import statsmodels.api as sm\n",
    "import mysql.connector as sql\n",
    "db_connection = sql.connect(host='localhost', database='laraveladmin', user='root', password='')\n",
    "db_cursor = db_connection.cursor()\n",
    "db_cursor.execute('SELECT admit,toefl,greverbal,grequants,greawa,gradscore FROM testone WHERE course=\"Computer Science\" and univ=\"Arizona State University\"')\n",
    "\n",
    "table_rows = db_cursor.fetchall()\n",
    "\n",
    "datasets = pd.DataFrame(table_rows)\n",
    "datasets.columns = ['admit','toefl', 'grev', 'greq', 'greawa', 'gradscore'] \n",
    "#print(dataset)\n",
    "import warnings\n",
    "warnings.filterwarnings(\"ignore\", category=FutureWarning)\n"
   ]
  },
  {
   "cell_type": "code",
   "execution_count": 2,
   "metadata": {},
   "outputs": [],
   "source": [
    "# use pandas i/o to get the dataset\n",
    "dataset = pd.read_csv(\"F:/python progs/ALGORITHMS TEST/example/admission.csv\")\n"
   ]
  },
  {
   "cell_type": "code",
   "execution_count": 3,
   "metadata": {},
   "outputs": [
    {
     "name": "stdout",
     "output_type": "stream",
     "text": [
      "   admit  toefl grev greq greawa gradscore\n",
      "0      1    105  153  170     3.      71.5\n",
      "1      1    100  152  164     3.      76.4\n",
      "2      1    102  159  155      2      81.1\n",
      "3      1    102  150  164      4     72.18\n",
      "4      1    100  152  160     3.        73\n"
     ]
    }
   ],
   "source": [
    "print(datasets.head())"
   ]
  },
  {
   "cell_type": "code",
   "execution_count": 4,
   "metadata": {},
   "outputs": [
    {
     "name": "stdout",
     "output_type": "stream",
     "text": [
      "<class 'pandas.core.frame.DataFrame'>\n"
     ]
    }
   ],
   "source": [
    "print(type(dataset))"
   ]
  },
  {
   "cell_type": "code",
   "execution_count": 5,
   "metadata": {},
   "outputs": [
    {
     "name": "stdout",
     "output_type": "stream",
     "text": [
      "(400, 8)\n"
     ]
    }
   ],
   "source": [
    "print(dataset.shape)\n"
   ]
  },
  {
   "cell_type": "code",
   "execution_count": 6,
   "metadata": {},
   "outputs": [
    {
     "name": "stdout",
     "output_type": "stream",
     "text": [
      "<class 'pandas.core.frame.DataFrame'>\n",
      "RangeIndex: 400 entries, 0 to 399\n",
      "Data columns (total 8 columns):\n",
      "admit       400 non-null int64\n",
      "toefl       400 non-null int64\n",
      "rating      400 non-null int64\n",
      "sop         400 non-null float64\n",
      "lor         400 non-null float64\n",
      "gpa         400 non-null float64\n",
      "research    400 non-null int64\n",
      "gre         400 non-null int64\n",
      "dtypes: float64(3), int64(5)\n",
      "memory usage: 25.1 KB\n",
      "None\n"
     ]
    }
   ],
   "source": [
    "print(dataset.info())\n"
   ]
  },
  {
   "cell_type": "code",
   "execution_count": 7,
   "metadata": {},
   "outputs": [
    {
     "name": "stdout",
     "output_type": "stream",
     "text": [
      "admit       400\n",
      "toefl       400\n",
      "rating      400\n",
      "sop         400\n",
      "lor         400\n",
      "gpa         400\n",
      "research    400\n",
      "gre         400\n",
      "dtype: int64\n"
     ]
    }
   ],
   "source": [
    "print(dataset.count())"
   ]
  },
  {
   "cell_type": "code",
   "execution_count": 8,
   "metadata": {},
   "outputs": [
    {
     "name": "stdout",
     "output_type": "stream",
     "text": [
      "Index(['admit', 'toefl', 'rating', 'sop', 'lor', 'gpa', 'research', 'gre'], dtype='object')\n"
     ]
    }
   ],
   "source": [
    "print(dataset.columns)"
   ]
  },
  {
   "cell_type": "code",
   "execution_count": 9,
   "metadata": {},
   "outputs": [
    {
     "name": "stdout",
     "output_type": "stream",
     "text": [
      "admit          180.00\n",
      "toefl        42964.00\n",
      "rating        1235.00\n",
      "sop           1360.00\n",
      "lor           1381.00\n",
      "gpa           3439.57\n",
      "research       219.00\n",
      "gre         126723.00\n",
      "dtype: float64\n"
     ]
    }
   ],
   "source": [
    "print(dataset.sum())"
   ]
  },
  {
   "cell_type": "code",
   "execution_count": 10,
   "metadata": {},
   "outputs": [
    {
     "name": "stdout",
     "output_type": "stream",
     "text": [
      "            admit       toefl      rating         sop         lor         gpa  \\\n",
      "count  400.000000  400.000000  400.000000  400.000000  400.000000  400.000000   \n",
      "mean     0.450000  107.410000    3.087500    3.400000    3.452500    8.598925   \n",
      "std      0.498117    6.069514    1.143728    1.006869    0.898478    0.596317   \n",
      "min      0.000000   92.000000    1.000000    1.000000    1.000000    6.800000   \n",
      "25%      0.000000  103.000000    2.000000    2.500000    3.000000    8.170000   \n",
      "50%      0.000000  107.000000    3.000000    3.500000    3.500000    8.610000   \n",
      "75%      1.000000  112.000000    4.000000    4.000000    4.000000    9.062500   \n",
      "max      1.000000  120.000000    5.000000    5.000000    5.000000    9.920000   \n",
      "\n",
      "         research         gre  \n",
      "count  400.000000  400.000000  \n",
      "mean     0.547500  316.807500  \n",
      "std      0.498362   11.473646  \n",
      "min      0.000000  290.000000  \n",
      "25%      0.000000  308.000000  \n",
      "50%      1.000000  317.000000  \n",
      "75%      1.000000  325.000000  \n",
      "max      1.000000  340.000000  \n"
     ]
    }
   ],
   "source": [
    "print(dataset.describe())"
   ]
  },
  {
   "cell_type": "code",
   "execution_count": 11,
   "metadata": {},
   "outputs": [
    {
     "name": "stdout",
     "output_type": "stream",
     "text": [
      "admit       400\n",
      "toefl       400\n",
      "rating      400\n",
      "sop         400\n",
      "lor         400\n",
      "gpa         400\n",
      "research    400\n",
      "gre         400\n",
      "dtype: int64\n"
     ]
    }
   ],
   "source": [
    "print(dataset.count())\n"
   ]
  },
  {
   "cell_type": "code",
   "execution_count": 15,
   "metadata": {},
   "outputs": [
    {
     "name": "stdout",
     "output_type": "stream",
     "text": [
      "admit         0.450000\n",
      "toefl       107.410000\n",
      "rating        3.087500\n",
      "sop           3.400000\n",
      "lor           3.452500\n",
      "gpa           8.598925\n",
      "research      0.547500\n",
      "gre         316.807500\n",
      "dtype: float64\n"
     ]
    }
   ],
   "source": [
    "print(dataset.mean())\n"
   ]
  },
  {
   "cell_type": "code",
   "execution_count": 16,
   "metadata": {},
   "outputs": [
    {
     "name": "stdout",
     "output_type": "stream",
     "text": [
      "admit         0.00\n",
      "toefl       107.00\n",
      "rating        3.00\n",
      "sop           3.50\n",
      "lor           3.50\n",
      "gpa           8.61\n",
      "research      1.00\n",
      "gre         317.00\n",
      "dtype: float64\n"
     ]
    }
   ],
   "source": [
    "print(dataset.median())\n"
   ]
  },
  {
   "cell_type": "code",
   "execution_count": 17,
   "metadata": {},
   "outputs": [],
   "source": [
    "from matplotlib import pyplot\n",
    "from sklearn.model_selection import train_test_split\n",
    "from sklearn.metrics import classification_report\n",
    "from sklearn.metrics import confusion_matrix\n",
    "from sklearn.metrics import accuracy_score\n",
    "from sklearn.model_selection import KFold\n",
    "from sklearn.model_selection import cross_val_score\n",
    "from sklearn.linear_model import LogisticRegression\n",
    "from sklearn.tree import DecisionTreeClassifier\n",
    "from sklearn.neighbors import KNeighborsClassifier\n",
    "from sklearn.ensemble import RandomForestClassifier\n",
    "from sklearn.discriminant_analysis import LinearDiscriminantAnalysis\n",
    "from sklearn.naive_bayes import GaussianNB\n",
    "from sklearn.svm import SVC"
   ]
  },
  {
   "cell_type": "code",
   "execution_count": 18,
   "metadata": {},
   "outputs": [],
   "source": [
    "dataArray = dataset.values\n"
   ]
  },
  {
   "cell_type": "code",
   "execution_count": 19,
   "metadata": {},
   "outputs": [
    {
     "name": "stdout",
     "output_type": "stream",
     "text": [
      "[[  1.   118.     4.   ...   9.65   1.   337.  ]\n",
      " [  1.   107.     4.   ...   8.87   1.   324.  ]\n",
      " [  0.   104.     3.   ...   8.     1.   316.  ]\n",
      " ...\n",
      " [  1.   116.     4.   ...   9.45   1.   330.  ]\n",
      " [  0.   103.     3.   ...   8.78   0.   312.  ]\n",
      " [  1.   117.     4.   ...   9.66   1.   333.  ]]\n"
     ]
    }
   ],
   "source": [
    "print(dataArray)"
   ]
  },
  {
   "cell_type": "code",
   "execution_count": 20,
   "metadata": {},
   "outputs": [],
   "source": [
    "# split the input features and output variable\n",
    "X = dataArray[:,1:8]\n",
    "y = dataArray[:,0:1]\n",
    "# split training and testing dataset\n",
    "validation_size = 0.10\n",
    "seed = 9\n",
    "X_train, X_test, Y_train, Y_test = train_test_split(X, y, test_size=validation_size, random_state=seed)"
   ]
  },
  {
   "cell_type": "code",
   "execution_count": 21,
   "metadata": {},
   "outputs": [
    {
     "name": "stdout",
     "output_type": "stream",
     "text": [
      "(360, 7)\n",
      "(40, 7)\n",
      "(360, 1)\n",
      "(40, 1)\n"
     ]
    }
   ],
   "source": [
    "#splitting training & testing\n",
    "validation_size = 0.10\n",
    "seed = 9\n",
    "X_train, X_test, Y_train, Y_test = train_test_split(X,y,test_size=validation_size, random_state = seed)\n",
    "\n",
    "print(X_train.shape)\n",
    "print(X_test.shape)\n",
    "print(Y_train.shape)\n",
    "print(Y_test.shape)"
   ]
  },
  {
   "cell_type": "code",
   "execution_count": 22,
   "metadata": {},
   "outputs": [
    {
     "data": {
      "text/plain": [
       "LogisticRegression(C=1.0, class_weight=None, dual=False, fit_intercept=True,\n",
       "          intercept_scaling=1, max_iter=100, multi_class='warn',\n",
       "          n_jobs=None, penalty='l2', random_state=None, solver='lbfgs',\n",
       "          tol=0.0001, verbose=0, warm_start=False)"
      ]
     },
     "execution_count": 22,
     "metadata": {},
     "output_type": "execute_result"
    }
   ],
   "source": [
    "num_trees = 200\n",
    "max_features = 2\n",
    "models = []\n",
    "models.append(('LDA', LogisticRegression()))\n",
    "models.append(('LR', LinearDiscriminantAnalysis()))\n",
    "models.append(('KNN', KNeighborsClassifier()))\n",
    "models.append(('CART', DecisionTreeClassifier()))\n",
    "models.append(('RF', RandomForestClassifier(n_estimators=num_trees, max_features=max_features)))\n",
    "models.append(('NB', GaussianNB()))\n",
    "models.append(('SVM', SVC()))\n",
    "LogisticRegression(solver='lbfgs')\n"
   ]
  },
  {
   "cell_type": "code",
   "execution_count": 26,
   "metadata": {},
   "outputs": [],
   "source": [
    "# fit the models and evaluate it\n",
    "results = []\n",
    "names = []\n",
    "scoring = 'accuracy'\n",
    "\n",
    "# evaluate each model using 10-FOLD cross validation\n",
    "for name, model in models:\n",
    "    kfold = KFold(n_splits=10, random_state=7)\n",
    "    cv_results = cross_val_score(model, X_train, Y_train.ravel(), cv=kfold, scoring=scoring)\n",
    "    results.append(cv_results)\n",
    "    names.append(name)\n",
    "    msg = \"%s: %f (%f)\" % (name, cv_results.mean(), cv_results.std())\n",
    "    \n"
   ]
  },
  {
   "cell_type": "code",
   "execution_count": 27,
   "metadata": {},
   "outputs": [
    {
     "data": {
      "image/png": "[encoded data removed]",
      "text/plain": [
       "<Figure size 432x288 with 1 Axes>"
      ]
     },
     "metadata": {
      "needs_background": "light"
     },
     "output_type": "display_data"
    }
   ],
   "source": [
    "# boxplots for ML algorithm comparison\n",
    "fig = pyplot.figure()\n",
    "fig.suptitle('Machine Learning algorithms comparison')\n",
    "ax = fig.add_subplot(111)\n",
    "pyplot.boxplot(results)\n",
    "ax.set_xticklabels(names)\n",
    "pyplot.show()"
   ]
  },
  {
   "cell_type": "code",
   "execution_count": 28,
   "metadata": {},
   "outputs": [
    {
     "name": "stdout",
     "output_type": "stream",
     "text": [
      "Model --> Logistic Regression\n",
      "Overall Accuracy: 90.0\n",
      "              precision    recall  f1-score   support\n",
      "\n",
      "         0.0       0.92      0.92      0.92        26\n",
      "         1.0       0.86      0.86      0.86        14\n",
      "\n",
      "   micro avg       0.90      0.90      0.90        40\n",
      "   macro avg       0.89      0.89      0.89        40\n",
      "weighted avg       0.90      0.90      0.90        40\n",
      "\n"
     ]
    }
   ],
   "source": [
    "# create the model\n",
    "model = LogisticRegression()\n",
    "# fit the model\n",
    "model.fit(X_train, Y_train.ravel())\n",
    "\n",
    "# make predictions on the test data\n",
    "predictions = model.predict(X_test)\n",
    "\n",
    "# compute the overall accuracy and display the classification report\n",
    "print(\"Model --> Logistic Regression\")\n",
    "print(\"Overall Accuracy: {}\".format(accuracy_score(Y_test, predictions) * 100))\n",
    "print(classification_report(Y_test, predictions))\n",
    "   "
   ]
  },
  {
   "cell_type": "code",
   "execution_count": 56,
   "metadata": {},
   "outputs": [
    {
     "name": "stdout",
     "output_type": "stream",
     "text": [
      "[0.96477549 0.59583655 0.44993956]\n"
     ]
    }
   ],
   "source": [
    "# make prediction on a new test data - (TOEFL, sop, lor, cv, gpa, research paper, GRE)\n",
    "#new_data = [(105,2,2,2,8,1,330)]\n",
    "\n",
    "new_data = [(105,5,5,5,7,1,280),(80,5,5,5,7.5,1,300),(105,4,4,4,7.8,0,300)]\n",
    "# convert the list of tuples to numpy array\n",
    "new_array = np.asarray(new_data)\n",
    "\n",
    "# the output labels\n",
    "labels = [\"reject\", \"admit\"]\n",
    "\n",
    "# make prediction\n",
    "prediction = model.predict_proba(new_array)[:,1]\n",
    "predictionc = model.predict(new_array)\n",
    "\n",
    "print(prediction)\n",
    "# get the no.of.test cases used\n",
    "no_of_test_cases, cols = new_array.shape\n",
    "#df = pd.DataFrame(prediction, columns = ['ouput'])\n",
    "#print(df)\n"
   ]
  },
  {
   "cell_type": "code",
   "execution_count": 57,
   "metadata": {},
   "outputs": [
    {
     "name": "stdout",
     "output_type": "stream",
     "text": [
      "Status of STUDENT with toefl score= 105, quants= 5, sop = 5,lor=5,gpa=7, international paper=1, gre=280, will be --> 96.4775485202647\n",
      "Status of STUDENT with toefl score= 80, quants= 5, sop = 5,lor=5,gpa=7.5, international paper=1, gre=300, will be --> 59.58365455830009\n",
      "Status of STUDENT with toefl score= 105, quants= 4, sop = 4,lor=4,gpa=7.8, international paper=0, gre=300, will be --> 44.99395581017114\n"
     ]
    }
   ],
   "source": [
    "# show the result\n",
    "for i in range(no_of_test_cases):\n",
    "    print(\"Status of STUDENT with toefl score= {}, quants= {}, sop = {},lor={},gpa={}, international paper={}, gre={}, will be --> {}\".format(new_data[i][0], new_data[i][1],new_data[i][2],new_data[i][3],new_data[i][4],new_data[i][5],new_data[i][6],prediction[i]*100))\n"
   ]
  },
  {
   "cell_type": "code",
   "execution_count": null,
   "metadata": {},
   "outputs": [],
   "source": [
    "\n"
   ]
  },
  {
   "cell_type": "code",
   "execution_count": null,
   "metadata": {},
   "outputs": [],
   "source": []
  },
  {
   "cell_type": "code",
   "execution_count": null,
   "metadata": {},
   "outputs": [],
   "source": []
  },
  {
   "cell_type": "code",
   "execution_count": null,
   "metadata": {},
   "outputs": [],
   "source": []
  },
  {
   "cell_type": "code",
   "execution_count": null,
   "metadata": {},
   "outputs": [],
   "source": []
  },
  {
   "cell_type": "code",
   "execution_count": null,
   "metadata": {},
   "outputs": [],
   "source": []
  }
 ],
 "metadata": {
  "kernelspec": {
   "display_name": "Python 3",
   "language": "python",
   "name": "python3"
  },
  "language_info": {
   "codemirror_mode": {
    "name": "ipython",
    "version": 3
   },
   "file_extension": ".py",
   "mimetype": "text/x-python",
   "name": "python",
   "nbconvert_exporter": "python",
   "pygments_lexer": "ipython3",
   "version": "3.6.5"
  }
 },
 "nbformat": 4,
 "nbformat_minor": 2
}
